{
 "cells": [
  {
   "cell_type": "markdown",
   "source": [
    "**Count VEctorization**"
   ],
   "metadata": {}
  },
  {
   "cell_type": "code",
   "execution_count": null,
   "source": [
    "import pandas as pd\r\n",
    "import re\r\n",
    "import string\r\n",
    "import nltk\r\n",
    "\r\n",
    "ps=nltk.PorterStemmer()\r\n",
    "pd.set_option('display.max_colwidth',100)\r\n",
    "data=pd.read_csv('SMSSpamCollection.tsv',sep='\\t')\r\n",
    "data.columns=['label','body_text']\r\n",
    "stopwords=nltk.corpus.stopwords.words('english')\r\n",
    "data.head()"
   ],
   "outputs": [],
   "metadata": {}
  },
  {
   "cell_type": "code",
   "execution_count": null,
   "source": [
    "def clean_text(text):\r\n",
    "    text=''.join([word.lower() for word in text if word not in string.punctuation])\r\n",
    "    tokenize=re.split('\\W+',text)\r\n",
    "    text=[ps.stem(word) for word in tokenize if word not in stopwords]\r\n",
    "    return text\r\n"
   ],
   "outputs": [],
   "metadata": {}
  },
  {
   "cell_type": "markdown",
   "source": [
    "**Apply CountVector**"
   ],
   "metadata": {}
  },
  {
   "cell_type": "code",
   "execution_count": null,
   "source": [
    "from sklearn.feature_extraction.text import CountVectorizer\r\n",
    "\r\n",
    "count_vect=CountVectorizer(analyzer=clean_text)\r\n",
    "x_counts=count_vect.fit_transform(data['body_text'])\r\n",
    "print(x_counts.shape)"
   ],
   "outputs": [],
   "metadata": {}
  },
  {
   "cell_type": "code",
   "execution_count": null,
   "source": [
    "#print(count_vect.get_feature_names())\r\n",
    "print(count_vect.vocabulary_)\r\n"
   ],
   "outputs": [],
   "metadata": {}
  },
  {
   "cell_type": "code",
   "execution_count": null,
   "source": [
    "print(x_counts)"
   ],
   "outputs": [],
   "metadata": {}
  },
  {
   "cell_type": "code",
   "execution_count": null,
   "source": [
    "dataset=pd.DataFrame(x_counts.toarray())\r\n",
    "dataset"
   ],
   "outputs": [],
   "metadata": {}
  }
 ],
 "metadata": {
  "orig_nbformat": 4,
  "language_info": {
   "name": "python",
   "version": "3.8.8",
   "mimetype": "text/x-python",
   "codemirror_mode": {
    "name": "ipython",
    "version": 3
   },
   "pygments_lexer": "ipython3",
   "nbconvert_exporter": "python",
   "file_extension": ".py"
  },
  "kernelspec": {
   "name": "python3",
   "display_name": "Python 3.8.8 64-bit"
  },
  "interpreter": {
   "hash": "f1dbc2c7cc3ecfd5525355bfe746f3d3d4520dae3f43be6c436b981d0333eccd"
  }
 },
 "nbformat": 4,
 "nbformat_minor": 2
}