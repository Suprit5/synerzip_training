{
 "cells": [
  {
   "cell_type": "markdown",
   "source": [
    "**Supplemental Data Cleaning: Using a Lemmatizer**"
   ],
   "metadata": {}
  },
  {
   "cell_type": "code",
   "execution_count": null,
   "source": [
    "import nltk\r\n",
    "wn=nltk.WordNetLemmatizer()\r\n",
    "ps=nltk.PorterStemmer()"
   ],
   "outputs": [],
   "metadata": {}
  },
  {
   "cell_type": "code",
   "execution_count": null,
   "source": [
    "print(ps.stem('meanness'))\r\n",
    "print(ps.stem('meaning'))"
   ],
   "outputs": [],
   "metadata": {}
  },
  {
   "cell_type": "code",
   "execution_count": null,
   "source": [
    "print(wn.lemmatize('meanness'))\r\n",
    "print(wn.lemmatize('meaning'))"
   ],
   "outputs": [],
   "metadata": {}
  },
  {
   "cell_type": "code",
   "execution_count": null,
   "source": [
    "print(ps.stem('goose'))\r\n",
    "print(ps.stem('geese'))"
   ],
   "outputs": [],
   "metadata": {}
  },
  {
   "cell_type": "code",
   "execution_count": null,
   "source": [
    "print(wn.lemmatize('goose'))\r\n",
    "print(wn.lemmatize('geese'))"
   ],
   "outputs": [],
   "metadata": {}
  },
  {
   "cell_type": "markdown",
   "source": [
    "**Read raw text**"
   ],
   "metadata": {}
  },
  {
   "cell_type": "code",
   "execution_count": null,
   "source": [
    "import pandas as pd\r\n",
    "import re\r\n",
    "import string\r\n",
    "\r\n",
    "pd.set_option('display.max_colwidth',100)\r\n",
    "\r\n",
    "stopword=nltk.corpus.stopwords.words('english')\r\n",
    "\r\n",
    "data=pd.read_csv('SMSSpamCollection.tsv',sep='\\t')\r\n",
    "data.columns=['label','body_text']\r\n",
    "data.head()"
   ],
   "outputs": [],
   "metadata": {}
  },
  {
   "cell_type": "markdown",
   "source": [
    "**Clean Text**"
   ],
   "metadata": {}
  },
  {
   "cell_type": "code",
   "execution_count": null,
   "source": [
    "def clean_text(text):\r\n",
    "    text=''.join([word for word in text if word not in string.punctuation])\r\n",
    "    tokenize=re.split('\\W+',text)\r\n",
    "    clean_text=[word for word in tokenize if word not in stopword]\r\n",
    "    return clean_text\r\n",
    "\r\n",
    "data['clean text']=data['body_text'].apply(lambda x:clean_text(x.lower()))\r\n",
    "data.head()"
   ],
   "outputs": [],
   "metadata": {}
  },
  {
   "cell_type": "code",
   "execution_count": null,
   "source": [
    "def lemmatize(tokenized_text):\r\n",
    "    text=[wn.lemmatize(word) for word in tokenized_text]\r\n",
    "    return text\r\n",
    "\r\n",
    "data['lemmatized text']=data['clean text'].apply(lambda x: lemmatize(x))\r\n",
    "data.head()"
   ],
   "outputs": [],
   "metadata": {}
  }
 ],
 "metadata": {
  "orig_nbformat": 4,
  "language_info": {
   "name": "python",
   "version": "3.8.8",
   "mimetype": "text/x-python",
   "codemirror_mode": {
    "name": "ipython",
    "version": 3
   },
   "pygments_lexer": "ipython3",
   "nbconvert_exporter": "python",
   "file_extension": ".py"
  },
  "kernelspec": {
   "name": "python3",
   "display_name": "Python 3.8.8 64-bit"
  },
  "interpreter": {
   "hash": "f1dbc2c7cc3ecfd5525355bfe746f3d3d4520dae3f43be6c436b981d0333eccd"
  }
 },
 "nbformat": 4,
 "nbformat_minor": 2
}