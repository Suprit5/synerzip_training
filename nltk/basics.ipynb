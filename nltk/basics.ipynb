{
 "cells": [
  {
   "cell_type": "markdown",
   "source": [
    "NLP-Basics : Reading in text data & why do we need to clean the text"
   ],
   "metadata": {}
  },
  {
   "cell_type": "markdown",
   "source": [
    "Read semi-structured text data"
   ],
   "metadata": {}
  },
  {
   "cell_type": "code",
   "execution_count": 7,
   "source": [
    "# Read the raw text\r\n",
    "raw_data=open(\"SMSSpamCollection.tsv\").read()\r\n",
    "# Print the raw data\r\n",
    "raw_data[0:500]"
   ],
   "outputs": [
    {
     "output_type": "execute_result",
     "data": {
      "text/plain": [
       "\"ham\\tI've been searching for the right words to thank you for this breather. I promise i wont take your help for granted and will fulfil my promise. You have been wonderful and a blessing at all times.\\nspam\\tFree entry in 2 a wkly comp to win FA Cup final tkts 21st May 2005. Text FA to 87121 to receive entry question(std txt rate)T&C's apply 08452810075over18's\\nham\\tNah I don't think he goes to usf, he lives around here though\\nham\\tEven my brother is not like to speak with me. They treat me like aid\""
      ]
     },
     "metadata": {},
     "execution_count": 7
    }
   ],
   "metadata": {}
  },
  {
   "cell_type": "code",
   "execution_count": null,
   "source": [
    "parseData=raw_data.replace('\\t','\\n')\r\n",
    "parseData[0:500]"
   ],
   "outputs": [],
   "metadata": {}
  },
  {
   "cell_type": "markdown",
   "source": [
    "Now we will seprate the label and the message \r\n"
   ],
   "metadata": {}
  },
  {
   "cell_type": "code",
   "execution_count": null,
   "source": [
    "labelData=parseData[0::2]\r\n",
    "messageData=parseData[1::2]"
   ],
   "outputs": [],
   "metadata": {}
  },
  {
   "cell_type": "code",
   "execution_count": null,
   "source": [
    "print(labelData[0:5])\r\n",
    "print(messageData[0:5])"
   ],
   "outputs": [],
   "metadata": {}
  },
  {
   "cell_type": "markdown",
   "source": [
    "Now we will create a dataframe of the data using pandas"
   ],
   "metadata": {}
  },
  {
   "cell_type": "code",
   "execution_count": null,
   "source": [
    "import pandas as pd"
   ],
   "outputs": [],
   "metadata": {}
  },
  {
   "cell_type": "markdown",
   "source": [
    "__Here we will counter an error because the number of label is not equal to the number of data__\r\n",
    "__So we need to find that extra label and eleminate it__"
   ],
   "metadata": {}
  },
  {
   "cell_type": "code",
   "execution_count": null,
   "source": [
    "fullCorpus=pd.DataFrame({'label':labelData,'data':messageData})\r\n",
    "fullCorpus.head()"
   ],
   "outputs": [],
   "metadata": {}
  },
  {
   "cell_type": "code",
   "execution_count": null,
   "source": [
    "print(len(labelData))\r\n",
    "print(len(messageData))"
   ],
   "outputs": [],
   "metadata": {}
  },
  {
   "cell_type": "code",
   "execution_count": null,
   "source": [
    "print(labelData[-5:])"
   ],
   "outputs": [],
   "metadata": {}
  },
  {
   "cell_type": "code",
   "execution_count": null,
   "source": [
    "fullCorpus=pd.DataFrame({'label':labelData[:-1],'data':messageData})\r\n",
    "fullCorpus.head()"
   ],
   "outputs": [],
   "metadata": {}
  },
  {
   "cell_type": "code",
   "execution_count": null,
   "source": [
    "dataset=pd.read_csv(\"SMSSpamCollection.tsv\",sep='\\t',header=None)\r\n",
    "dataset.head()"
   ],
   "outputs": [],
   "metadata": {}
  }
 ],
 "metadata": {
  "orig_nbformat": 4,
  "language_info": {
   "name": "python",
   "version": "3.8.8",
   "mimetype": "text/x-python",
   "codemirror_mode": {
    "name": "ipython",
    "version": 3
   },
   "pygments_lexer": "ipython3",
   "nbconvert_exporter": "python",
   "file_extension": ".py"
  },
  "kernelspec": {
   "name": "python3",
   "display_name": "Python 3.8.8 64-bit"
  },
  "interpreter": {
   "hash": "f1dbc2c7cc3ecfd5525355bfe746f3d3d4520dae3f43be6c436b981d0333eccd"
  }
 },
 "nbformat": 4,
 "nbformat_minor": 2
}